{
 "cells": [
  {
   "cell_type": "code",
   "execution_count": 8,
   "metadata": {},
   "outputs": [],
   "source": [
    "import os\n",
    "import pandas as pd\n",
    "import numpy as np\n",
    "from sklearn.metrics import mean_squared_error"
   ]
  },
  {
   "cell_type": "code",
   "execution_count": 9,
   "metadata": {},
   "outputs": [],
   "source": [
    "def calculate_rmse(df):\n",
    "    rmse_arrival = np.sqrt(mean_squared_error(df['ARRIVAL_RATE'], df['DESIRED_ARRIVAL_RATE']))\n",
    "    return rmse_arrival\n",
    "\n",
    "def process_csv_file(file_path):\n",
    "    df = pd.read_csv(file_path)\n",
    "    rmse = calculate_rmse(df)\n",
    "    return rmse"
   ]
  },
  {
   "cell_type": "code",
   "execution_count": 12,
   "metadata": {},
   "outputs": [
    {
     "name": "stdout",
     "output_type": "stream",
     "text": [
      "File: hysteresisOnOff.csv | RMSE: 9274.755\n",
      "File: deadzoneOnOff.csv | RMSE: 9089.209\n",
      "File: errorsquarePID_ziegler.csv | RMSE: 6342.929\n",
      "File: errorsquarePID_rootlocus.csv | RMSE: 6267.488\n",
      "File: basicOnOff.csv | RMSE: 6261.230\n",
      "File: incrementalPID_ziegler.csv | RMSE: 5035.184\n",
      "File: errorsquarePID_amigo.csv | RMSE: 4567.479\n",
      "File: basicPID_ziegler_training.csv | RMSE: 4508.998\n",
      "File: errorsquarePID_cohen.csv | RMSE: 4233.348\n",
      "File: deadzonePID_ziegler.csv | RMSE: 4084.072\n",
      "File: incrementalPID_rootlocus.csv | RMSE: 3837.503\n",
      "File: aStar.csv | RMSE: 3419.310\n",
      "File: basicPID_root_locus_training.csv | RMSE: 3116.416\n",
      "File: incrementalPID_cohen.csv | RMSE: 2724.580\n",
      "File: deadzonePID_root_locus.csv | RMSE: 2701.504\n",
      "File: basicPID_amigo_training.csv | RMSE: 2336.601\n",
      "File: basicPID_cohen_training.csv | RMSE: 2328.080\n",
      "File: deadzonePID_cohen.csv | RMSE: 2278.008\n",
      "File: incrementalPID_amigo.csv | RMSE: 2258.445\n",
      "File: deadzonePID_amigo.csv | RMSE: 2138.828\n",
      "File: hpa.csv | RMSE: 1767.524\n"
     ]
    }
   ],
   "source": [
    "folder_path = './../outputs/data/'  # Update with the actual folder path\n",
    "\n",
    "rmse_data = []\n",
    "\n",
    "for file_name in os.listdir(folder_path):\n",
    "    if file_name.endswith('.csv'):\n",
    "        file_path = os.path.join(folder_path, file_name)\n",
    "        try:\n",
    "            rmse = process_csv_file(file_path)\n",
    "            rmse_data.append({'File': file_name, 'RMSE': rmse})\n",
    "        except Exception as e:\n",
    "            print(f\"Error processing {file_name}: {e}\")\n",
    "\n",
    "# Sort the RMSE data by RMSE in descending order\n",
    "rmse_data.sort(key=lambda x: x['RMSE'], reverse=True)\n",
    "\n",
    "# Print the sorted RMSE data with three decimal places\n",
    "for item in rmse_data:\n",
    "    formatted_rmse = format(item['RMSE'], '.3f')\n",
    "    print(f\"File: {item['File']} | RMSE: {formatted_rmse}\")"
   ]
  },
  {
   "cell_type": "code",
   "execution_count": 19,
   "metadata": {},
   "outputs": [],
   "source": [
    "from PIL import Image\n",
    "import math\n",
    "\n",
    "def create_image_grid(image_paths, grid_size):\n",
    "    images = [Image.open(path) for path in image_paths]\n",
    "\n",
    "    # Calculate the size of each grid cell\n",
    "    num_rows, num_cols = grid_size\n",
    "    cell_width = max(img.width for img in images)\n",
    "    cell_height = max(img.height for img in images)\n",
    "\n",
    "    # Calculate the size of the final grid image\n",
    "    grid_width = cell_width * num_cols\n",
    "    grid_height = cell_height * num_rows\n",
    "\n",
    "    # Create the grid image\n",
    "    grid_image = Image.new('RGB', (grid_width, grid_height))\n",
    "\n",
    "    for i, img in enumerate(images):\n",
    "        row = i // num_cols\n",
    "        col = i % num_cols\n",
    "\n",
    "        # Calculate the position to paste the current image\n",
    "        paste_x = col * cell_width\n",
    "        paste_y = row * cell_height\n",
    "\n",
    "        # Paste the image onto the grid\n",
    "        grid_image.paste(img, (paste_x, paste_y))\n",
    "\n",
    "    return grid_image\n",
    "\n",
    "if __name__ == \"__main__\":\n",
    "    image_paths = ['./Final results/deadzonePID_AMIGO.png', './Final results/BasicPID_cohen.png', './Final results/BasicPID_ziegler.png', './Final results/BasicPID_rootlocus.png']  # Add your image paths here\n",
    "    grid_size = (2, 2)  # Adjust the grid size as needed\n",
    "\n",
    "    grid_image = create_image_grid(image_paths, grid_size)\n",
    "    grid_image.show()\n",
    "    grid_image.save('deadzonePID.jpg')\n"
   ]
  },
  {
   "cell_type": "code",
   "execution_count": null,
   "metadata": {},
   "outputs": [],
   "source": [
    "    "
   ]
  }
 ],
 "metadata": {
  "kernelspec": {
   "display_name": "Python 3",
   "language": "python",
   "name": "python3"
  },
  "language_info": {
   "codemirror_mode": {
    "name": "ipython",
    "version": 3
   },
   "file_extension": ".py",
   "mimetype": "text/x-python",
   "name": "python",
   "nbconvert_exporter": "python",
   "pygments_lexer": "ipython3",
   "version": "3.8.10"
  },
  "orig_nbformat": 4
 },
 "nbformat": 4,
 "nbformat_minor": 2
}
