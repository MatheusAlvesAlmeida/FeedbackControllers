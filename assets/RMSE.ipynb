{
 "cells": [
  {
   "cell_type": "code",
   "execution_count": 8,
   "metadata": {},
   "outputs": [],
   "source": [
    "import os\n",
    "import pandas as pd\n",
    "import numpy as np\n",
    "from sklearn.metrics import mean_squared_error"
   ]
  },
  {
   "cell_type": "code",
   "execution_count": 9,
   "metadata": {},
   "outputs": [],
   "source": [
    "def calculate_rmse(df):\n",
    "    rmse_arrival = np.sqrt(mean_squared_error(df['ARRIVAL_RATE'], df['DESIRED_ARRIVAL_RATE']))\n",
    "    return rmse_arrival\n",
    "\n",
    "def process_csv_file(file_path):\n",
    "    df = pd.read_csv(file_path)\n",
    "    rmse = calculate_rmse(df)\n",
    "    return rmse"
   ]
  },
  {
   "cell_type": "code",
   "execution_count": 10,
   "metadata": {},
   "outputs": [
    {
     "name": "stdout",
     "output_type": "stream",
     "text": [
      "File: aStar.csv | RMSE: 12989.121764404486\n",
      "File: hysteresis_onoff.csv | RMSE: 11484.825245039252\n",
      "File: hpa.csv | RMSE: 11431.28609941998\n",
      "File: basic_onoff.csv | RMSE: 11464.693351799413\n",
      "File: deadzone_onoff.csv | RMSE: 12039.478359765333\n"
     ]
    }
   ],
   "source": [
    "folder_path = './../outputs/'  # Update with the actual folder path\n",
    "\n",
    "for file_name in os.listdir(folder_path):\n",
    "    if file_name.endswith('.csv'):\n",
    "        file_path = os.path.join(folder_path, file_name)\n",
    "        try:\n",
    "            rmse = process_csv_file(file_path)\n",
    "            print(f\"File: {file_name} | RMSE: {rmse}\")\n",
    "        except Exception as e:\n",
    "            print(f\"Error processing {file_name}: {e}\")"
   ]
  },
  {
   "cell_type": "code",
   "execution_count": null,
   "metadata": {},
   "outputs": [],
   "source": [
    "    "
   ]
  }
 ],
 "metadata": {
  "kernelspec": {
   "display_name": "Python 3",
   "language": "python",
   "name": "python3"
  },
  "language_info": {
   "codemirror_mode": {
    "name": "ipython",
    "version": 3
   },
   "file_extension": ".py",
   "mimetype": "text/x-python",
   "name": "python",
   "nbconvert_exporter": "python",
   "pygments_lexer": "ipython3",
   "version": "3.8.10"
  },
  "orig_nbformat": 4
 },
 "nbformat": 4,
 "nbformat_minor": 2
}
